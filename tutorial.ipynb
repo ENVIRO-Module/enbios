{
 "cells": [
  {
   "cell_type": "code",
   "execution_count": null,
   "metadata": {
    "collapsed": true
   },
   "outputs": [],
   "source": [
    "\n",
    "from nexinfosys.embedded_nis import NIS\n",
    "nis = NIS()\n",
    "nis.open_session()\n",
    "# Load \"Example-1\", which loads \"Base\"\n",
    "nis.load_workbook(\"https://docs.google.com/spreadsheets/d/1z8QKYkvlUPLAwo6NYM8rRLMj7_QjPRYOgAsTRI2HwWE/edit#gid=1467907392\")\n",
    "issues = nis.submit()\n",
    "issues2 = nis.solve()\n",
    "tmp = nis.query_available_datasets()\n",
    "print(tmp)\n",
    "d = nis.get_results([(tmp[0][\"type\"], tmp[0][\"name\"])])\n",
    "print(d)"
   ]
  }
 ],
 "metadata": {
  "kernelspec": {
   "display_name": "Python 3",
   "language": "python",
   "name": "python3"
  },
  "language_info": {
   "codemirror_mode": {
    "name": "ipython",
    "version": 2
   },
   "file_extension": ".py",
   "mimetype": "text/x-python",
   "name": "python",
   "nbconvert_exporter": "python",
   "pygments_lexer": "ipython2",
   "version": "2.7.6"
  }
 },
 "nbformat": 4,
 "nbformat_minor": 0
}