{
 "cells": [
  {
   "cell_type": "markdown",
   "id": "3696cfd0",
   "metadata": {},
   "source": [
    "# ECEMP case study"
   ]
  },
  {
   "cell_type": "markdown",
   "id": "418255b7",
   "metadata": {},
   "source": [
    "This Jupyter Notebook will guide you through ENBIOS preparation and use. A simple case study including onshore wind and open ground photovoltaic technologies in Spain was prepared. The necessary materials to follow this Notebook are here (https://drive.google.com/drive/folders/1YC6dtH-pPvL2UjO-z_udw6YKJ8lLBrZm?hl=es). \n",
    "The central file to run enbios is the BaseFile. You should have prepared your own BaseFile to follow the session. In case you didn't, you can follow the video instructions (XXXXX). An Example of how the BaseFile should look like at the end of the session is here (https://docs.google.com/spreadsheets/d/1uJFMEDOn_HlaJsQ8A1nz7oad0p6WxwJ5rzsQwRA39g8/edit?usp=sharing).\n",
    "In case you have any doubts, you can always take a look at ENBIOS user manual (https://drive.google.com/file/d/1dTgWTgY2kTeZJF5Djl38xeymTJ90PMVa/view?usp=sharing)."
   ]
  },
  {
   "cell_type": "markdown",
   "id": "a7986a2d",
   "metadata": {},
   "source": [
    "### Step 1: Prepare the files you need to run enbios"
   ]
  },
  {
   "cell_type": "markdown",
   "id": "20a28df7",
   "metadata": {},
   "source": [
    "This includes the following:\n",
    "1. The BaseFile with all the required information.\n",
    "2. A csv file containing the data of the energy produced by the technologies that define your system. Note that the technologies inclueded here have to match those introduced in the \"Bare processor simulation\" sheet in the Basefile. A csv file including onshore wind and openground photovoltaics has already been prepared for you here (https://drive.google.com/file/d/16qUilxqDXa-dVgWBdrK9VEdnxWOO3N4n/view?usp=sharing).\n",
    "3. The latest version of the Ecoinvent Life Cycle Impact Assessment (LCIA) methods implemented in the ecoinvent database. It can be downlowded from Ecoinvent website: login -> Files -> Supporting documents -> LCIA_implementation.zip. Example: in 2021, the resulting downloaded file is called \"LCIA_Implementation_v3.8.xlsx\". In case you don't have access to Ecoinvent a copy of this file can be found here (https://docs.google.com/spreadsheets/d/1hGHdqtQRXQy_rhkDKN63S_w9mJXMLOkZ/edit?usp=sharing&ouid=107760011850830783238&rtpof=true&sd=true).\n",
    "4. The spold files (.spold) of all the Ecoinvent processes to be used in your simulation. The spold files for onshore wind and openground photovoltaics in Spain are provided to you here (https://drive.google.com/drive/folders/1cvKhUMKoIrr0GLB8zUrjWu8B8M6wftGN?usp=sharing)."
   ]
  },
  {
   "cell_type": "code",
   "execution_count": null,
   "id": "7d54f5c3",
   "metadata": {},
   "outputs": [],
   "source": [
    "from enbios.bin.script import Enbios\n",
    "import pandas as pd\n",
    "import seaborn as sns\n",
    "import matplotlib.pyplot as plt\n",
    "\n",
    "enbios = Enbios()"
   ]
  },
  {
   "cell_type": "markdown",
   "id": "05b13719",
   "metadata": {},
   "source": [
    "### Step 2: Run lcia_implementation_to_csv"
   ]
  },
  {
   "cell_type": "markdown",
   "id": "f7ddcd9f",
   "metadata": {},
   "source": [
    "This function prepares the Ecoinvent LCIA methods for their use in ENBIOS. (NOTE: this function has to be called only when Ecoinvent updates their database, usually once a year.)\n",
    "\n",
    "**Input requirements** (to be specified in the cell below): \n",
    "1. lcia_implementation_path -> write the local path to the file LCIA_Implementation_v3.8.xlsx (use latest version).\n",
    "2. method_out_path -> write the local path for the output csv file to be saved."
   ]
  },
  {
   "cell_type": "code",
   "execution_count": null,
   "id": "8cf9df78",
   "metadata": {},
   "outputs": [],
   "source": [
    "lcia_implementation_path = r'C:\\PhD_ICTA_Miquel\\congresses\\ECEMP2022\\Test_Jupyter_Notebook\\LCIA_Implementation_v3.8.xlsx'\n",
    "method_out_path = r'C:\\PhD_ICTA_Miquel\\congresses\\ECEMP2022\\Test_Jupyter_Notebook\\method_out.csv'\n",
    "\n",
    "enbios.lcia_implementation_to_csv(lcia_implementation_path, method_out_path)"
   ]
  },
  {
   "cell_type": "markdown",
   "id": "70b4ca5e",
   "metadata": {},
   "source": [
    "### Step 3: Run lci_to_nis"
   ]
  },
  {
   "cell_type": "markdown",
   "id": "c069b6bb",
   "metadata": {},
   "source": [
    "This function prepares an xlsx file of all interfaces, processors and combinations of these two.\n",
    "\n",
    "**Input requirements** (to be specified in the cell below): \n",
    "1. basefile_url: BaseFile URL\n",
    "2. spolds_folder: spold files folder of the Ecoinvent processes to be used in your simulation\n",
    "3. lci_to_nis_output_path: write the local path for the output xlsx file to be saved."
   ]
  },
  {
   "cell_type": "code",
   "execution_count": null,
   "id": "a8a51333",
   "metadata": {},
   "outputs": [],
   "source": [
    "basefile_url = r'https://docs.google.com/spreadsheets/d/1703Qv1h8t3WFvwzdksfk-JfjIfqUnUZ1ba8NYfSijIk/edit#gid=387453521'\n",
    "spolds_folder = 'C:\\PhD_ICTA_Miquel\\congresses\\ECEMP2022\\Test_Jupyter_Notebook'\n",
    "lci_to_nis_output_path = r'C:\\PhD_ICTA_Miquel\\congresses\\ECEMP2022\\Test_Jupyter_Notebook\\lci_to_nis_output.xlsx'\n",
    "\n",
    "enbios.lci_to_nis(basefile_url, spolds_folder, lci_to_nis_output_path)"
   ]
  },
  {
   "cell_type": "markdown",
   "id": "5a884e19",
   "metadata": {},
   "source": [
    "### Step 4: Final BaseFile adjustments"
   ]
  },
  {
   "cell_type": "markdown",
   "id": "da6fa44d",
   "metadata": {},
   "source": [
    "Prior to running the simulation, it is important to vinculate results from step 2 and 3 with the BaseFile. In order to do so, upload the files resulting from step 2 and 3 in a Google Drive Folder and copy their respective links as follows:\n",
    "1.  lcia_method_out.csv in \"DatasetDef\" Sheet, line 11.\n",
    "2.  lci_to_nis.xlsx in \"ImportCommandsLCIStructurals\", line 2.\n",
    "\n",
    "Moreover, the \"ScalarIndicators\" BaseFile sheet has still to be completed with the desired LCIA method indicators to be calculated. In the cell below, you can specify the LCIA method to be employed and **the output will provide an Excel sheet that can be directly pasted into the \"ScalarIndicators\" sheet**. To start, we propose you to use the method \"ReCiPe Midpoint (H) V1.13\".\n",
    "\n",
    "**Input requirements** (to be specified in the cell below): \n",
    "1. input_path: local path to the lcia_indicators_list.xlsx file. This file is provided here (https://docs.google.com/spreadsheets/d/1EcA8DQTbP2ftQ-JBjgPY-iVQMdTh2VxV/edit?usp=sharing&ouid=107760011850830783238&rtpof=true&sd=true), nevertheless it has to be downloaded and stored as a local file.\n",
    "2. output_path: local path for the output xlsx file to be saved.\n",
    "3. method: LCIA method to be employed. IMPORTANT: you have to write the LCIA method name plus an underscore at the end. Example: \"ReCiPe Midpoint (H) V1.13_\"."
   ]
  },
  {
   "cell_type": "code",
   "execution_count": null,
   "id": "9378ee38",
   "metadata": {
    "scrolled": true
   },
   "outputs": [],
   "source": [
    "input_path = r'C:\\PhD_ICTA_Miquel\\congresses\\ECEMP2022\\Test_Jupyter_Notebook\\lcia_indicators_list.xlsx'\n",
    "output_path = r'C:\\PhD_ICTA_Miquel\\congresses\\ECEMP2022\\Test_Jupyter_Notebook'\n",
    "method = \"ReCiPe Midpoint (H) V1.13_\"\n",
    "\n",
    "df = pd.read_excel(output_path + '\\lcia_indicators_list.xlsx')\n",
    "\n",
    "df.drop('Description', axis=1, inplace=True)\n",
    "df = df.loc[df[\"Indicator\"].str.contains(method, regex=False)]\n",
    "list_indicators = df[\"Indicator\"].tolist()\n",
    "for i in list_indicators:\n",
    "    new_indicator_name = i.replace(method, \"\").replace(\" \", \"_\")\n",
    "    df[\"Indicator\"].replace({i:new_indicator_name}, inplace=True)\n",
    "\n",
    "df.to_excel(output_path + '\\lcia_indicators_list_filtered.xlsx' ,index=False)\n",
    "\n",
    "\n",
    "#Preparation of the necessary files with the LCIA methods and the corresponding units\n",
    "xls = pd.ExcelFile(lcia_implementation_path)\n",
    "df2 = pd.read_excel(xls, \"Indicators\")\n",
    "df2['enbios'] = [str(x) + '_' + str(y) + '_' + str(z) for x, y,z in zip(df2['Method'], df2['Category'], df2['Indicator'])]\n",
    "\n",
    "df3 = pd.read_excel(input_path)\n",
    "mydi = dict(zip(df2.enbios,df2.Unit))  \n",
    "for key in mydi.keys():\n",
    "    key = str(key) \n",
    "    df3.loc[df3.Indicator == key,'Unit'] = mydi[key]\n",
    "\n",
    "df3.to_excel(output_path + '\\lcia_implementation_units.xlsx', index=False)\n",
    "\n",
    "#Filter the chosen LCIA method\n",
    "df = pd.read_excel(output_path + '\\lcia_implementation_units.xlsx')\n",
    "\n",
    "df.drop('Description', axis=1, inplace=True)\n",
    "df = df.loc[df[\"Indicator\"].str.contains(method, regex=False)]\n",
    "list_indicators = df[\"Indicator\"].tolist()\n",
    "for i in list_indicators:\n",
    "    new_indicator_name = i.replace(method, \"\").replace(\" \", \"_\")\n",
    "    df[\"Indicator\"].replace({i:new_indicator_name}, inplace=True)\n",
    "\n",
    "df.to_excel(output_path + '\\lcia_implementation_units_filtered.xlsx' ,index=False)"
   ]
  },
  {
   "cell_type": "markdown",
   "id": "dd1774bb",
   "metadata": {},
   "source": [
    "The output file, called lcia_indicators_list.xlsx, provides an Excel sheet that can be directly pasted into the \"ScalarIndicators\" sheet. In case you just want to analyse some of these indicators, you can \"mute\" the undesired ones by writing a \"#\" symbol in column A. We porpose you, to start, muting all the indicators except for four. For example: Climate Change, Fossil Depletion, Natural Land Transformation and Water Depletion."
   ]
  },
  {
   "cell_type": "markdown",
   "id": "fcd81e5a",
   "metadata": {},
   "source": [
    "### Step 5: Run enviro"
   ]
  },
  {
   "cell_type": "markdown",
   "id": "deb48d3e",
   "metadata": {},
   "source": [
    "Now that all the preparatory files are already set, the actual simulation can start by calling the \"enviro\" function.\n",
    "\n",
    "**Input requirements**: \n",
    "\n",
    "1. yaml_path: A .yaml file that specifies the Base File path and the simulation file path."
   ]
  },
  {
   "cell_type": "code",
   "execution_count": null,
   "id": "8b8d419c",
   "metadata": {
    "scrolled": false
   },
   "outputs": [],
   "source": [
    "yaml_path = r'C:\\PhD_ICTA_Miquel\\congresses\\ECEMP2022\\Test_Jupyter_Notebook\\case_study_ECEMP.yaml' \n",
    "\n",
    "enbios.enviro(yaml_path)"
   ]
  },
  {
   "cell_type": "markdown",
   "id": "76b175ec",
   "metadata": {},
   "source": [
    "If you get an error such as “ERROR:root:No database connection defined (DB_CONNECTION_STRING), exiting now!”, try closing the BaseFile in your browser and run the cell again. If the problem keeps happening, you will have to run the simulation from the terminal. In this case, first, open Anaconda Navigator and activate \"enbios\" environment prior to opening the Terminal. Then, execute the code: enbios enviro yaml_filename (with the local path to your yaml file). For more details you can check Manual's page 25."
   ]
  },
  {
   "cell_type": "markdown",
   "id": "541ff948",
   "metadata": {},
   "source": [
    "### Step 6: Results visualisation"
   ]
  },
  {
   "cell_type": "markdown",
   "id": "86abba83",
   "metadata": {},
   "source": [
    "This function provides a graphical visualisation of the results.\n",
    "\n",
    "**Input requirements** (to be specified in the cell below): \n",
    "1. results_path: local path where the enbios results were stored. The name of the csv file generated by enbios should be: indicators.csv.\n",
    "2. dendrogram_level: number (integer) corresponding to the dendrogram level you want to explore.\n",
    "3. plot_output_path: write the local path for the output .png graphs to be saved."
   ]
  },
  {
   "cell_type": "code",
   "execution_count": null,
   "id": "05e853a9",
   "metadata": {},
   "outputs": [],
   "source": [
    "results_path = r'C:\\PhD_ICTA_Miquel\\congresses\\ECEMP2022\\Test_Jupyter_Notebook\\output\\indicators.csv'\n",
    "dendrogram_level = 0\n",
    "plot_output_path = r'C:\\PhD_ICTA_Miquel\\congresses\\ECEMP2022\\Test_Jupyter_Notebook\\output\\plots'\n",
    "\n",
    "\n",
    "def visualization (dendrogram_level, plot_output_path):\n",
    "    \"\"\"\n",
    "    Params:\n",
    "    ->dendogram_level: integer \n",
    "    ->plot_output_path: path to save the results\n",
    "    \"\"\"\n",
    "    \n",
    "    df = pd.read_csv(results_path, delimiter=',')\n",
    "    #rename the columns. Create a standard names\n",
    "    def rename_columns(df):\n",
    "        a=df.columns.tolist()\n",
    "        namecolumns=('Scenario','System','Period','Scope','Processor','Indicator','Value','Unit')\n",
    "        counter=0\n",
    "        for i in ddd:\n",
    "            df.rename(columns={i:namecolumns[counter]},inplace=True)\n",
    "            counter=counter+1 \n",
    "    #include the units\n",
    "    dfunit=pd.read_excel(output_path + '\\lcia_implementation_units_filtered.xlsx')\n",
    "    mydi=dict(zip(dfunit.Indicator,dfunit.Unit))\n",
    "    for key in mydi.keys():\n",
    "        key=str(key)\n",
    "        df.loc[df.Indicator==key,'Unit']=mydi[key]\n",
    "    # #Create a dendrogram lvl maker\n",
    "    df = df.loc[~df[\"Processor\"].str.contains(\"environment\")]\n",
    "    df[\"Dendrogram level\"] = df[\"Processor\"].str.count(\"\\.\")\n",
    "    df.drop(df[df['Scope']=='Internal'].index, inplace=True)\n",
    "    listindicatorr=df['Indicator'].unique().tolist()\n",
    "    label=df['Unit'].unique().tolist()\n",
    "    #define a new class to iterate over the dataframes\n",
    "    class my_dictionary(dict):\n",
    "        # __init__ function\n",
    "        def __init__(self):\n",
    "            self = dict()\n",
    "        def add(self, key, value):\n",
    "            self[key] = value\n",
    "    #~~~~~~~~~~~~~~~~~~~~~~~~~~~~~~~~~~~~\n",
    "    #Crea dataframes per cada indicador. Utilitza my dictionary per guardar-los a un diccionari\n",
    "    dict_obj = my_dictionary()\n",
    "    for i in df.columns:\n",
    "        nom_dataframes=[]\n",
    "        listindicators=df['Indicator'].unique()\n",
    "        listindicator=listindicators.tolist()    \n",
    "    for i,g in df.groupby('Indicator'):\n",
    "        globals()['df_'+str(i)]=g\n",
    "        nom_dataframes.append(i)\n",
    "        dict_obj.add(i,g)\n",
    "        \n",
    "    #~~~~~~~~~~~~~~~~~~~~~~~~~~~~~~~~~~~~~~~~~~~~\n",
    "    #visualització\n",
    "    sns.set()\n",
    "    sns.set_style({'axes.facecolor':'white', 'grid.color': '.8', 'font.family':'Times New Roman'})\n",
    "    sns.set_context(\"paper\")\n",
    "    fig, axes = plt.subplots(3,2,figsize=(10,10),dpi=500, )\n",
    "    plt.subplots_adjust(left=0.1, \n",
    "                    top=0.9, \n",
    "                    wspace=0.2, \n",
    "                    hspace=0.5)\n",
    "    \n",
    "    colors=['r','b','y','mediumaquamarine','navajowhite','pink',] #define the colors\n",
    "    color= iter(colors)\n",
    "    for (key, data), ax in zip(dict_obj.items(), axes.ravel()): #iterate plots and axis\n",
    "        fig.suptitle('Environmental Impacts in level {}'.format(dendrogram_level))\n",
    "        data=data.loc[data['Dendrogram level'] == dendrogram_level]\n",
    "        #get the unit label\n",
    "        unit=data['Unit'].unique().tolist()\n",
    "        #plot\n",
    "        sns.barplot(ax=ax,x='Scenario',y='Value',data=data,color=next(color),alpha=0.8,saturation=0.7).set(\n",
    "        xlabel='',ylabel=str(unit[0]))\n",
    "        \n",
    "        title=str(key)\n",
    "        ax.set_title(title)\n",
    "    plt.savefig(plot_output_path +'\\Plot_Result'+'.png',facecolor='w', dpi=500)\n",
    "\n",
    "            \n",
    "visualization(dendrogram_level,plot_output_path)"
   ]
  }
 ],
 "metadata": {
  "kernelspec": {
   "display_name": "Python 3 (ipykernel)",
   "language": "python",
   "name": "python3"
  },
  "language_info": {
   "codemirror_mode": {
    "name": "ipython",
    "version": 3
   },
   "file_extension": ".py",
   "mimetype": "text/x-python",
   "name": "python",
   "nbconvert_exporter": "python",
   "pygments_lexer": "ipython3",
   "version": "3.8.0"
  }
 },
 "nbformat": 4,
 "nbformat_minor": 5
}
